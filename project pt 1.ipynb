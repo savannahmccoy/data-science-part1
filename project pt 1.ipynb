{
 "cells": [
  {
   "cell_type": "code",
   "execution_count": null,
   "metadata": {},
   "outputs": [],
   "source": [
    "import json\n",
    "import csv\n",
    "import time\n",
    "import sys\n",
    "import pandas as pd\n",
    "import numpy as np\n",
    "import prettyprinter as pp\n",
    "import matplotlib.pyplot as plt\n",
    "\n",
    "# pandas options\n",
    "pd.options.mode.chained_assignment = None  \n",
    "pd.options.display.max_columns = None\n",
    "pd.options.display.max_rows = None\n",
    "\n",
    "# spotify api\n",
    "from spotipy.oauth2 import SpotifyClientCredentials\n",
    "from spotipy.oauth2 import SpotifyOAuth\n",
    "import spotipy\n",
    "\n",
    "client_id = \"7f921ccd390e4fd7ba204c6bf3254ebb\"\n",
    "client_secret = \"587e97f124534ae28d8ba6d3578a9ce2\""
   ]
  },
  {
   "cell_type": "code",
   "execution_count": null,
   "metadata": {},
   "outputs": [],
   "source": [
    "sp = spotipy.Spotify(auth_manager = SpotifyClientCredentials(client_id = client_id,\n",
    "                                                             client_secret = client_secret))"
   ]
  },
  {
   "cell_type": "markdown",
   "metadata": {},
   "source": [
    "#### READING in original dataset"
   ]
  },
  {
   "cell_type": "code",
   "execution_count": null,
   "metadata": {},
   "outputs": [],
   "source": [
    "df = pd.read_csv ('data.csv')"
   ]
  },
  {
   "cell_type": "markdown",
   "metadata": {},
   "source": [
    "#### REMOVING songs before year 1950"
   ]
  },
  {
   "cell_type": "code",
   "execution_count": null,
   "metadata": {},
   "outputs": [],
   "source": [
    "new_df = df[df['year'] > 1950]"
   ]
  },
  {
   "cell_type": "markdown",
   "metadata": {},
   "source": [
    "#### PULLING additional song features"
   ]
  },
  {
   "cell_type": "code",
   "execution_count": null,
   "metadata": {
    "scrolled": true
   },
   "outputs": [],
   "source": [
    "def get_song_info(s_ids):\n",
    "    \n",
    "    n = 0\n",
    "    p = 50\n",
    "    \n",
    "    print(n)\n",
    "    print(p)\n",
    "    \n",
    "    fields = ['song_id', 'primary_artist_id', 'album_type', 'time_signature']\n",
    "    \n",
    "    with open(\"song_info.csv\", 'w') as csvfile:  \n",
    "    \n",
    "        csvwriter = csv.writer(csvfile)  \n",
    "        csvwriter.writerow(fields)  \n",
    "    \n",
    "        for i in range(int(len(s_ids)/50)+1):\n",
    "            print(i)\n",
    "            print(\"\\n\")\n",
    "            ids = s_ids[n:p]\n",
    "            n = n + 50\n",
    "            p = p + 50\n",
    "            print(n)\n",
    "            print(p)\n",
    "\n",
    "            urns = [\"spotify:track:\" + x for x in ids]\n",
    "            tracks_analysis = sp.audio_features(urns)\n",
    "            tracks = sp.tracks(urns)['tracks']\n",
    "            m = 0\n",
    "            for track in tracks:\n",
    "                s_id = track['id'] \n",
    "                a_id = track['artists'][0]['id']\n",
    "                album_type = track['album']['album_type']\n",
    "                time_signature = tracks_analysis[m]['time_signature']\n",
    "                m = m + 1\n",
    "                csvwriter.writerow([s_id, a_id, album_type, time_signature])\n",
    "\n",
    "\n",
    "    \n",
    "i = 0  \n",
    "s_ids = list(new_df['id'])\n",
    "start = time.time()\n",
    "get_song_info(s_ids)\n",
    "end = time.time()\n",
    "print(\"time:\", str(end - start))"
   ]
  },
  {
   "cell_type": "markdown",
   "metadata": {},
   "source": [
    "#### PULLING additional artist info"
   ]
  },
  {
   "cell_type": "code",
   "execution_count": null,
   "metadata": {
    "scrolled": true
   },
   "outputs": [],
   "source": [
    "def get_artists_info(a_ids):\n",
    "    n = 0\n",
    "    p = 50\n",
    "    \n",
    "    print(n)\n",
    "    print(p)\n",
    "    \n",
    "    fields = ['artist_id', 'genres', 'followers', 'popularity']\n",
    "    \n",
    "    with open(\"artist_info.csv\", 'w') as csvfile:  \n",
    "    \n",
    "        csvwriter = csv.writer(csvfile)  \n",
    "        csvwriter.writerow(fields)  \n",
    "\n",
    "        for i in range(int(len(a_ids)/50)+1):\n",
    "            print(i)\n",
    "            print(\"\\n\")\n",
    "            ids = a_ids[n:p]\n",
    "            n = n + 50\n",
    "            p = p + 50\n",
    "            print(n)\n",
    "            print(p)\n",
    "\n",
    "            urns = [\"spotify:artist:\" + x for x in ids]\n",
    "            artists = sp.artists(urns)['artists']\n",
    "            for artist in artists:\n",
    "                a_id = artist['id'] \n",
    "                followers = artist['followers']['total']\n",
    "                genres = artist['genres']\n",
    "                popularity = artist['popularity']\n",
    "                \n",
    "                csvwriter.writerow([a_id, genres, followers, popularity])\n",
    "                \n",
    "                \n",
    "start = time.time()\n",
    "udf = pd.read_csv('song_info.csv')\n",
    "ua_ids = list(set(udf[\"primary_artist_id\"]))\n",
    "get_artists_info(ua_ids)\n",
    "end = time.time()\n",
    "print(\"time:\", str(end - start))"
   ]
  },
  {
   "cell_type": "markdown",
   "metadata": {},
   "source": [
    "#### MERGING pulled data into main df"
   ]
  },
  {
   "cell_type": "code",
   "execution_count": null,
   "metadata": {},
   "outputs": [],
   "source": [
    "# MERGING SONG DATA\n",
    "new_df = new_df.rename(columns={\"id\": \"song_id\", \"popularity\": \"song_popularity\"}, errors=\"raise\")\n",
    "sdf = pd.read_csv('song_info.csv')\n",
    "m_df = pd.merge(new_df, sdf, on=\"song_id\")\n",
    "m_df"
   ]
  },
  {
   "cell_type": "code",
   "execution_count": null,
   "metadata": {},
   "outputs": [],
   "source": [
    "# MERGING ARTIST INFO\n",
    "adf = pd.read_csv('artist_info.csv')\n",
    "adf = adf.rename(columns={\"artist_id\": \"primary_artist_id\"}, errors=\"raise\")\n",
    "t_df = pd.merge(m_df, adf, on=\"primary_artist_id\")\n",
    "t_df"
   ]
  },
  {
   "cell_type": "code",
   "execution_count": null,
   "metadata": {},
   "outputs": [],
   "source": [
    "new_df = t_df.rename(columns={\"followers\": \"primary_artist_followers\", \n",
    "                              \"genres\":\"primary_artist_genres\", \n",
    "                              \"popularity\":\"primary_artist_popularity\"}, errors=\"raise\")"
   ]
  },
  {
   "cell_type": "markdown",
   "metadata": {},
   "source": [
    "#### FORMING additional features"
   ]
  },
  {
   "cell_type": "code",
   "execution_count": null,
   "metadata": {},
   "outputs": [],
   "source": [
    "new_df['isSingle'] = [1 if x == \"single\" else 0 for x in new_df['album_type']]"
   ]
  },
  {
   "cell_type": "code",
   "execution_count": null,
   "metadata": {},
   "outputs": [],
   "source": [
    "a_ls = [x.strip('][').split(', ') for x in list(new_df[\"artists\"])]\n",
    "new_df['hasFeature'] = [1 if len(x) > 1 else 0 for x in a_ls]"
   ]
  },
  {
   "cell_type": "code",
   "execution_count": null,
   "metadata": {},
   "outputs": [],
   "source": [
    "new_df['isPopular'] = [1 if x >= 80 else 0 for x in new_df[\"song_popularity\"]]"
   ]
  },
  {
   "cell_type": "code",
   "execution_count": null,
   "metadata": {},
   "outputs": [],
   "source": [
    "new_df.to_csv ('new_data_precleaned.csv', index = True, header = True)"
   ]
  },
  {
   "cell_type": "markdown",
   "metadata": {},
   "source": [
    "#### CLEANING feature data types"
   ]
  },
  {
   "cell_type": "code",
   "execution_count": 164,
   "metadata": {},
   "outputs": [],
   "source": [
    "def convert_to_list_artists(row):\n",
    "#     ls = row[\"artists\"].strip('][').split(', ') \n",
    "    ls = row[\"artists\"] \n",
    "    ls = [x[1:-1] for x in ls]\n",
    "    return ls\n",
    "\n",
    "def convert_to_list_genres(row):\n",
    "#     ls = row[\"primary_artist_genres\"].strip('][').split(', ') \n",
    "    ls = row[\"primary_artist_genres\"]\n",
    "    ls = [x[1:-1] for x in ls]\n",
    "    return ls\n",
    "\n",
    "new_df['primary_artist_genres'] = new_df.apply(lambda row: convert_to_list_genres(row), axis=1)\n",
    "new_df[\"artists\"] = new_df.apply(lambda row: convert_to_list_artists(row), axis=1)"
   ]
  },
  {
   "cell_type": "code",
   "execution_count": 165,
   "metadata": {},
   "outputs": [],
   "source": [
    "def get_primary_artist(row):\n",
    "    return row[\"artists\"][0]\n",
    "\n",
    "new_df = new_df.rename(columns={\"primary_artist\": \"primary_artist_name\"}, errors=\"raise\")\n",
    "new_df['primary_artist'] = new_df.apply(lambda row: get_primary_artist(row), axis=1)"
   ]
  },
  {
   "cell_type": "markdown",
   "metadata": {},
   "source": [
    "#### REMOVING unnecessary columns"
   ]
  },
  {
   "cell_type": "code",
   "execution_count": null,
   "metadata": {},
   "outputs": [],
   "source": [
    "# del new_df['album_type']\n",
    "\n",
    "del new_df['no_genre']\n",
    "del new_df['release_date']\n",
    "del new_df['primary_artist_id']\n",
    "del new_df['song_id']\n",
    "del new_df['no_genre']"
   ]
  },
  {
   "cell_type": "code",
   "execution_count": 166,
   "metadata": {},
   "outputs": [],
   "source": [
    "new_df.to_csv('final_new_data.csv', index = True, header = True)"
   ]
  }
 ],
 "metadata": {
  "kernelspec": {
   "display_name": "Python 3",
   "language": "python",
   "name": "python3"
  },
  "language_info": {
   "codemirror_mode": {
    "name": "ipython",
    "version": 3
   },
   "file_extension": ".py",
   "mimetype": "text/x-python",
   "name": "python",
   "nbconvert_exporter": "python",
   "pygments_lexer": "ipython3",
   "version": "3.7.8"
  }
 },
 "nbformat": 4,
 "nbformat_minor": 4
}
